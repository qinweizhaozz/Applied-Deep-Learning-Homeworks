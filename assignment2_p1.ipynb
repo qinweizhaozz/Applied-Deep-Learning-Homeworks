{
 "cells": [
  {
   "cell_type": "code",
   "execution_count": 1,
   "metadata": {},
   "outputs": [
    {
     "name": "stderr",
     "output_type": "stream",
     "text": [
      "/anaconda2/lib/python2.7/site-packages/h5py/__init__.py:36: FutureWarning: Conversion of the second argument of issubdtype from `float` to `np.floating` is deprecated. In future, it will be treated as `np.float64 == np.dtype(float).type`.\n",
      "  from ._conv import register_converters as _register_converters\n"
     ]
    }
   ],
   "source": [
    "import tensorflow as tf"
   ]
  },
  {
   "cell_type": "code",
   "execution_count": 2,
   "metadata": {},
   "outputs": [],
   "source": [
    "import numpy as np\n",
    "mnist = tf.keras.datasets.mnist\n",
    "(x_train, y_train), (x_test, y_test) = mnist.load_data()\n",
    "x_train, x_test = x_train / 255.0, x_test / 255.0\n",
    "y_train = y_train.astype(np.int32)\n",
    "y_test = y_test.astype(np.int32)"
   ]
  },
  {
   "cell_type": "code",
   "execution_count": 3,
   "metadata": {},
   "outputs": [],
   "source": [
    "x_train = np.reshape(x_train, (x_train.shape[0], -1))\n",
    "x_test = np.reshape(x_test, (x_test.shape[0], -1))\n",
    "y_train = tf.keras.utils.to_categorical(y_train, 10)\n",
    "y_test = tf.keras.utils.to_categorical(y_test, 10)"
   ]
  },
  {
   "cell_type": "code",
   "execution_count": 4,
   "metadata": {},
   "outputs": [],
   "source": [
    "model = tf.keras.models.Sequential([\n",
    "  tf.keras.layers.Dense(10,input_shape=[784,],activation=tf.nn.softmax),\n",
    " ])\n",
    "model.compile(optimizer='adam',loss='categorical_crossentropy',\n",
    "                  metrics=['accuracy'])"
   ]
  },
  {
   "cell_type": "code",
   "execution_count": 5,
   "metadata": {},
   "outputs": [
    {
     "name": "stdout",
     "output_type": "stream",
     "text": [
      "Epoch 1/5\n",
      "60000/60000 [==============================] - 2s 31us/step - loss: 0.4712 - acc: 0.8766\n",
      "Epoch 2/5\n",
      "60000/60000 [==============================] - 2s 26us/step - loss: 0.3041 - acc: 0.9149\n",
      "Epoch 3/5\n",
      "60000/60000 [==============================] - 2s 26us/step - loss: 0.2833 - acc: 0.9205\n",
      "Epoch 4/5\n",
      "60000/60000 [==============================] - 2s 26us/step - loss: 0.2733 - acc: 0.9243\n",
      "Epoch 5/5\n",
      "60000/60000 [==============================] - 2s 29us/step - loss: 0.2665 - acc: 0.9256\n",
      "10000/10000 [==============================] - 0s 17us/step\n"
     ]
    },
    {
     "data": {
      "text/plain": [
       "[0.26618757587373254, 0.9263]"
      ]
     },
     "execution_count": 5,
     "metadata": {},
     "output_type": "execute_result"
    }
   ],
   "source": [
    "model.fit(x_train, y_train, epochs=5)\n",
    "model.evaluate(x_test, y_test)"
   ]
  },
  {
   "cell_type": "markdown",
   "metadata": {},
   "source": [
    "accuracy for test set is 0.9259"
   ]
  },
  {
   "cell_type": "code",
   "execution_count": 6,
   "metadata": {},
   "outputs": [
    {
     "name": "stdout",
     "output_type": "stream",
     "text": [
      "Train on 60000 samples, validate on 10000 samples\n",
      "Epoch 1/5\n",
      "60000/60000 [==============================] - 8s 130us/step - loss: 0.2089 - acc: 0.9365 - val_loss: 0.1061 - val_acc: 0.9686\n",
      "Epoch 2/5\n",
      "60000/60000 [==============================] - 7s 123us/step - loss: 0.1077 - acc: 0.9676 - val_loss: 0.0859 - val_acc: 0.9729\n",
      "Epoch 3/5\n",
      "60000/60000 [==============================] - 8s 130us/step - loss: 0.0845 - acc: 0.9742 - val_loss: 0.0798 - val_acc: 0.9757\n",
      "Epoch 4/5\n",
      "60000/60000 [==============================] - 8s 126us/step - loss: 0.0658 - acc: 0.9799 - val_loss: 0.0975 - val_acc: 0.9705\n",
      "Epoch 00004: early stopping\n"
     ]
    }
   ],
   "source": [
    "model = tf.keras.models.Sequential([\n",
    "    tf.keras.layers.Dense(512,input_shape=[784,],activation=tf.nn.relu),\n",
    "    tf.keras.layers.Dropout(rate=0.2),\n",
    "#     tf.keras.layers.Dense(256,),\n",
    "#     tf.keras.layers.Dropout(rate=0.2),\n",
    "    tf.keras.layers.Dense(128,),\n",
    "  tf.keras.layers.Dense(10,activation=tf.nn.softmax),\n",
    " ])\n",
    "model.compile(optimizer='adam',loss='categorical_crossentropy',\n",
    "                  metrics=['accuracy'])\n",
    "early_stopping = tf.keras.callbacks.EarlyStopping(monitor='val_loss',\n",
    "                                               min_delta=0.001,\n",
    "                                               patience=0,\n",
    "                                               verbose=1)\n",
    "history = model.fit(x_train, y_train,\n",
    "                    epochs=5,\n",
    "                    verbose=1,\n",
    "                    validation_data=(x_test, y_test),\n",
    "                    callbacks=[early_stopping])"
   ]
  },
  {
   "cell_type": "markdown",
   "metadata": {},
   "source": [
    "accuracy for test set is 0.97"
   ]
  }
 ],
 "metadata": {
  "kernelspec": {
   "display_name": "Python 2",
   "language": "python",
   "name": "python2"
  },
  "language_info": {
   "codemirror_mode": {
    "name": "ipython",
    "version": 2
   },
   "file_extension": ".py",
   "mimetype": "text/x-python",
   "name": "python",
   "nbconvert_exporter": "python",
   "pygments_lexer": "ipython2",
   "version": "2.7.15"
  }
 },
 "nbformat": 4,
 "nbformat_minor": 2
}
